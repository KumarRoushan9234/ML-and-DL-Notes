{
 "cells": [
  {
   "cell_type": "markdown",
   "id": "ba591189",
   "metadata": {},
   "source": [
    "### 1. Linear Regression\n",
    "\n",
    "- Intuition\n",
    "Linear Regression is used to predict continuous values. It's like trying to draw the best straight line through a cloud of data points.\n",
    "\n",
    "- Use-case Examples : \n",
    "  - Predicting house prices based on area.\n",
    "  - Estimating salary from years of experience.\n",
    "  - Forecasting stock prices (basic).\n",
    "\n",
    "Mathematical Model\n",
    "We want to model a relationship like:\n",
    "\n"
   ]
  },
  {
   "cell_type": "markdown",
   "id": "f95b4e21",
   "metadata": {},
   "source": []
  }
 ],
 "metadata": {
  "language_info": {
   "name": "python"
  }
 },
 "nbformat": 4,
 "nbformat_minor": 5
}
